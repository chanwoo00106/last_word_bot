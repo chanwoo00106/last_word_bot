{
 "cells": [
  {
   "cell_type": "code",
   "execution_count": 2,
   "id": "278b52cc",
   "metadata": {},
   "outputs": [],
   "source": [
    "##################################################################\n",
    "#  동물분류 프로젝트\n",
    "#  2021.09.01\n",
    "#  ......\n",
    "#  ..........\n",
    "##################################################################\n",
    "\n",
    "from tensorflow.keras.models import load_model\n",
    "from PIL import Image, ImageOps\n",
    "import numpy as np"
   ]
  },
  {
   "cell_type": "code",
   "execution_count": 20,
   "id": "0c504cee",
   "metadata": {},
   "outputs": [
    {
     "name": "stdout",
     "output_type": "stream",
     "text": [
      "WARNING:tensorflow:No training configuration found in the save file, so the model was *not* compiled. Compile it manually.\n"
     ]
    }
   ],
   "source": [
    "# Load the model\n",
    "model = load_model('C:/Users/chan/Untitled Folder/tm/converted_keras/keras_model.h5')"
   ]
  },
  {
   "cell_type": "code",
   "execution_count": 22,
   "id": "718cf518",
   "metadata": {},
   "outputs": [],
   "source": [
    "# Create the array of the right shape to feed into the keras model\n",
    "# Array에 넣을 수 있는 이미지의 개수는...\n",
    "# 아래의 shape를 보여주는 tuple로 결정된다.\n",
    "data = np.ndarray(shape=(1, 224, 224, 3), dtype=np.float32)"
   ]
  },
  {
   "cell_type": "code",
   "execution_count": 55,
   "id": "8ca18d5e",
   "metadata": {},
   "outputs": [],
   "source": [
    "# Replace this with the path to your image\n",
    "image = Image.open('C:/Users/chan/Untitled Folder/tm/doggy.jpg')"
   ]
  },
  {
   "cell_type": "code",
   "execution_count": 56,
   "id": "493a82a0",
   "metadata": {},
   "outputs": [],
   "source": [
    "#resize the image to a 224x224 with the same strategy as in TM2:\n",
    "#resizing the image to be at least 224x224 and then cropping from the center\n",
    "size = (224, 224)\n",
    "\n",
    "image = ImageOps.fit(image, size, Image.ANTIALIAS)"
   ]
  },
  {
   "cell_type": "code",
   "execution_count": 57,
   "id": "b085f8c0",
   "metadata": {},
   "outputs": [
    {
     "data": {
      "text/plain": [
       "'bog'"
      ]
     },
     "execution_count": 57,
     "metadata": {},
     "output_type": "execute_result"
    }
   ],
   "source": [
    "#turn the image into a numpy array\n",
    "image_array = np.asarray(image)\n",
    "# Normalize the image\n",
    "normalized_image_array = (image_array.astype(np.float32) / 127.0) - 1\n",
    "# Load the image into the array\n",
    "data[0] = normalized_image_array\n",
    "\n",
    "# run the inference\n",
    "prediction = model.predict(data)\n",
    "\n",
    "labels = ['bog', 'cat', 'bear', 'rebit', 'tiger', 'Teemo']\n",
    "labels[np.argmax(prediction)]"
   ]
  },
  {
   "cell_type": "code",
   "execution_count": 58,
   "id": "5a370023",
   "metadata": {
    "scrolled": true
   },
   "outputs": [
    {
     "name": "stdout",
     "output_type": "stream",
     "text": [
      "bog : 99.97\n",
      "cat : 0.00\n",
      "bear : 0.00\n",
      "rebit : 0.03\n",
      "tiger : 0.00\n",
      "Teemo : 0.00\n"
     ]
    }
   ],
   "source": [
    "for i in range(0, len(labels)):\n",
    "    print(\"%s : %.2f\" %(labels[i], prediction[0, i] * 100))"
   ]
  },
  {
   "cell_type": "code",
   "execution_count": 59,
   "id": "a3401492",
   "metadata": {},
   "outputs": [
    {
     "data": {
      "image/png": "[encoded data removed]",
      "text/plain": [
       "<Figure size 432x288 with 1 Axes>"
      ]
     },
     "metadata": {
      "needs_background": "light"
     },
     "output_type": "display_data"
    }
   ],
   "source": [
    "import matplotlib.pyplot as plt\n",
    "# plt.barh(labels, prediction[0] * 100)\n",
    "plt.bar(labels, prediction[0] * 100)\n",
    "plt.show()"
   ]
  }
 ],
 "metadata": {
  "kernelspec": {
   "display_name": "Python 3",
   "language": "python",
   "name": "python3"
  },
  "language_info": {
   "codemirror_mode": {
    "name": "ipython",
    "version": 3
   },
   "file_extension": ".py",
   "mimetype": "text/x-python",
   "name": "python",
   "nbconvert_exporter": "python",
   "pygments_lexer": "ipython3",
   "version": "3.8.8"
  }
 },
 "nbformat": 4,
 "nbformat_minor": 5
}
