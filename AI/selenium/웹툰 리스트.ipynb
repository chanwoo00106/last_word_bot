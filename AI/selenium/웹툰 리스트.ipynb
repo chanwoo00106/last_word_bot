{
 "cells": [
  {
   "cell_type": "code",
   "execution_count": 2,
   "id": "ba5e878e",
   "metadata": {},
   "outputs": [],
   "source": [
    "import pandas as pd\n",
    "from requests import get\n",
    "from bs4 import BeautifulSoup\n",
    "\n",
    "url = 'https://comic.naver.com/webtoon/weekday'"
   ]
  },
  {
   "cell_type": "code",
   "execution_count": 3,
   "id": "01b37339",
   "metadata": {},
   "outputs": [],
   "source": [
    "html = get(url)"
   ]
  },
  {
   "cell_type": "code",
   "execution_count": 4,
   "id": "4fa385de",
   "metadata": {},
   "outputs": [],
   "source": [
    "soup = BeautifulSoup(html.content, 'html.parser')\n",
    "webtoonList = soup.find_all(class_='col_inner')"
   ]
  },
  {
   "cell_type": "code",
   "execution_count": null,
   "id": "e740e5e1",
   "metadata": {},
   "outputs": [],
   "source": []
  },
  {
   "cell_type": "code",
   "execution_count": 6,
   "id": "bdadcfa2",
   "metadata": {},
   "outputs": [],
   "source": [
    "a= ['월요일', '화요일', '수요일', '목요일', '금요일', '토요일', '일요일']\n",
    "weekList = {'월요일': [], '화요일': [], '수요일': [], '목요일': [], '금요일': [], '토요일': [], '일요일': []}\n",
    "for i in range(0, 7):\n",
    "    titleList = webtoonList[i].select(\".title\")\n",
    "    for title in titleList:\n",
    "        weekList[a[i]].append(title.get_text())\n",
    "\n",
    "\n",
    "from pandas import Series\n",
    "\n",
    "res = pd.DataFrame.from_dict(weekList, orient='index')\n",
    "\n",
    "result = res.transpose()\n",
    "result.to_excel(\"Webtoon List.xlsx\")"
   ]
  },
  {
   "cell_type": "code",
   "execution_count": null,
   "id": "3ea25392",
   "metadata": {},
   "outputs": [],
   "source": []
  },
  {
   "cell_type": "code",
   "execution_count": 90,
   "id": "4f83e9b0",
   "metadata": {},
   "outputs": [],
   "source": []
  },
  {
   "cell_type": "code",
   "execution_count": null,
   "id": "0fdd4e4b",
   "metadata": {},
   "outputs": [],
   "source": []
  }
 ],
 "metadata": {
  "kernelspec": {
   "display_name": "Python 3",
   "language": "python",
   "name": "python3"
  },
  "language_info": {
   "codemirror_mode": {
    "name": "ipython",
    "version": 3
   },
   "file_extension": ".py",
   "mimetype": "text/x-python",
   "name": "python",
   "nbconvert_exporter": "python",
   "pygments_lexer": "ipython3",
   "version": "3.8.8"
  }
 },
 "nbformat": 4,
 "nbformat_minor": 5
}
