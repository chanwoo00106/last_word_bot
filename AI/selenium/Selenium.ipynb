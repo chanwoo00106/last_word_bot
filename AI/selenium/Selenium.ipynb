{
 "cells": [
  {
   "cell_type": "code",
   "execution_count": 8,
   "id": "9ea6974d",
   "metadata": {},
   "outputs": [],
   "source": [
    "########################################################################\n",
    "# 구글 이미지 크롤링 :  검색으로 이미지 가져오기\n",
    "# Selenium 을 쓰는 이유 : 브라우저를 직접 가동해서\n",
    "# 크롬 드라이버 다운로드 : https://chromedriver.chromium.org/downloads\n",
    "# 자신의 크롬 버전에 맞추어 다운로드!\n",
    "########################################################################\n",
    "from selenium import webdriver\n",
    "from bs4 import BeautifulSoup as soups\n",
    "import os"
   ]
  },
  {
   "cell_type": "code",
   "execution_count": 2,
   "id": "636ff156",
   "metadata": {},
   "outputs": [
    {
     "name": "stdout",
     "output_type": "stream",
     "text": [
      "Collecting selenium\n",
      "  Downloading selenium-3.141.0-py2.py3-none-any.whl (904 kB)\n",
      "Requirement already satisfied: urllib3 in c:\\users\\chan\\anaconda3\\lib\\site-packages (from selenium) (1.26.4)\n",
      "Installing collected packages: selenium\n",
      "Successfully installed selenium-3.141.0\n"
     ]
    }
   ],
   "source": [
    "!pip install selenium"
   ]
  },
  {
   "cell_type": "code",
   "execution_count": 9,
   "id": "c7a6d87e",
   "metadata": {},
   "outputs": [
    {
     "name": "stdout",
     "output_type": "stream",
     "text": [
      "C:\\Users\\chan\\Untitled Folder\\selenium\n"
     ]
    }
   ],
   "source": [
    "def createFolder(directory):\n",
    "    try:\n",
    "        if not os.path.exists(directory):\n",
    "            os.makedirs(directory)\n",
    "    except OSError:\n",
    "        print ('Error: Creating directory. ' +  directory)"
   ]
  },
  {
   "cell_type": "code",
   "execution_count": 11,
   "id": "9d42a7ae",
   "metadata": {},
   "outputs": [
    {
     "name": "stdout",
     "output_type": "stream",
     "text": [
      "검색하고 싶은 키워드 : 김도균\n",
      "원하는 이미지 수집 개수 : 10\n"
     ]
    }
   ],
   "source": [
    "def search_selenium(search_name, search_limit) :\n",
    "    search_url = \"https://www.google.com/search?q=\" + str(search_name) + \"&hl=ko&tbm=isch\"\n",
    "    browser = webdriver.Chrome(f'{os.getcwd()}/chromedriver.exe')\n",
    "    browser.get(search_url)\n",
    "    image_count = len(browser.find_elements_by_tag_name(\"img\"))\n",
    "    browser.implicitly_wait(2) # data가 load될 때까지 2초간 기다려 준다.\n",
    "    image_save_folder = f\"./{search_name}/\"\n",
    "    createFolder(image_save_folder)\n",
    "    for i in range( search_limit + 30 ) :\n",
    "        if i < 30:  # top 30개 이미지 skip (검색어와 무관함)\n",
    "            continue\n",
    "        image = browser.find_elements_by_tag_name(\"img\")[i]\n",
    "        image.screenshot(image_save_folder + str(i-29) + \".png\")\n",
    "#     browser.close()\n",
    "if __name__ == \"__main__\" :\n",
    "    search_name = input(\"검색하고 싶은 키워드 : \")\n",
    "    search_limit = int(input(\"원하는 이미지 수집 개수 : \"))\n",
    "    search_path = \"Your Path\"\n",
    "    search_selenium(search_name, search_limit)"
   ]
  }
 ],
 "metadata": {
  "kernelspec": {
   "display_name": "Python 3",
   "language": "python",
   "name": "python3"
  },
  "language_info": {
   "codemirror_mode": {
    "name": "ipython",
    "version": 3
   },
   "file_extension": ".py",
   "mimetype": "text/x-python",
   "name": "python",
   "nbconvert_exporter": "python",
   "pygments_lexer": "ipython3",
   "version": "3.8.8"
  }
 },
 "nbformat": 4,
 "nbformat_minor": 5
}
